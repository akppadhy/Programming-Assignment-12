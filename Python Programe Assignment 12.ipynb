{
 "cells": [
  {
   "cell_type": "code",
   "execution_count": 1,
   "id": "c22ae583-8bbb-49d3-b4ac-e2f48e304dce",
   "metadata": {},
   "outputs": [
    {
     "name": "stdout",
     "output_type": "stream",
     "text": [
      "[1, 2, 3, 4, 5, 8, 9, 44, 23]\n"
     ]
    }
   ],
   "source": [
    "#1. Write a Python program to Extract Unique values dictionary values?\n",
    "\n",
    "def extract_unique_values(dictionary):\n",
    "    unique_values = set() # In set we can't have duplicate values so all values will be unique\n",
    "    for values in dictionary.values():\n",
    "        unique_values.update(values)\n",
    "    return list(unique_values)\n",
    "\n",
    "input_dict = {'A': [1, 2, 3, 8, 9], 'B': [2, 23, 4], 'C': [3, 44, 5]}\n",
    "unique_values = extract_unique_values(input_dict)\n",
    "print(unique_values)"
   ]
  },
  {
   "cell_type": "code",
   "execution_count": 3,
   "id": "e3996c42-98d4-48e4-bd06-c8da86e1c877",
   "metadata": {},
   "outputs": [
    {
     "name": "stdout",
     "output_type": "stream",
     "text": [
      "600\n"
     ]
    }
   ],
   "source": [
    "#2. Write a Python program to find the sum of all items in a dictionary?\n",
    "\n",
    "def sum_dictionary_items(dictionary):\n",
    "    total_sum = sum(dictionary.values())\n",
    "    return total_sum\n",
    "\n",
    "input_dict = {'A': 100, 'B': 200, 'C': 300}\n",
    "dict_sum = sum_dictionary_items(input_dict)\n",
    "print(dict_sum)"
   ]
  },
  {
   "cell_type": "code",
   "execution_count": 5,
   "id": "1930689e-3684-4838-9c78-8632e5c36b60",
   "metadata": {},
   "outputs": [
    {
     "name": "stdout",
     "output_type": "stream",
     "text": [
      "{'A': 40, 'B': 20, 'C': 30, 'D': 60}\n"
     ]
    }
   ],
   "source": [
    "#3. Write a Python program to Merging two Dictionaries?\n",
    "\n",
    "\n",
    "def merge_dictionaries(dict1, dict2):\n",
    "    merged_dict = {**dict1, **dict2}\n",
    "    return merged_dict\n",
    "\n",
    "dict1 = {'A': 40, 'B': 20}\n",
    "dict2 = {'C': 30, 'D': 60}\n",
    "merged_dict = merge_dictionaries(dict1, dict2)\n",
    "print(merged_dict)"
   ]
  },
  {
   "cell_type": "code",
   "execution_count": 6,
   "id": "db9406be-4e22-4c72-96cc-ca70fae12551",
   "metadata": {},
   "outputs": [
    {
     "name": "stdout",
     "output_type": "stream",
     "text": [
      "{'A': 1, 'B': 2, 'C': 3}\n"
     ]
    }
   ],
   "source": [
    "#4. Write a Python program to convert key-values list to flat dictionary?\n",
    "\n",
    "\n",
    "def convert_to_dictionary(keys, values):\n",
    "    flat_dict = dict(zip(keys, values))\n",
    "    return flat_dict\n",
    "\n",
    "keys = ['A', 'B', 'C']\n",
    "values = [1, 2, 3]\n",
    "flat_dict = convert_to_dictionary(keys, values)\n",
    "print(flat_dict)"
   ]
  },
  {
   "cell_type": "code",
   "execution_count": 7,
   "id": "b6bfdb63-adc3-4b72-ac14-709229d91b70",
   "metadata": {},
   "outputs": [
    {
     "data": {
      "text/plain": [
       "{'E': 50, 'A': 10, 'B': 20, 'C': 30, 'D': 40}"
      ]
     },
     "execution_count": 7,
     "metadata": {},
     "output_type": "execute_result"
    }
   ],
   "source": [
    "#5. Write a Python program to insertion at the beginning in OrderedDict?\n",
    "\n",
    "def insert_at_start(dict, key, value):\n",
    "    reordered_dict = {}\n",
    "    reordered_dict[key] = value\n",
    "    reordered_dict.update(dict)\n",
    "    return(reordered_dict)\n",
    "\n",
    "dict = {'A': 10, 'B':20, 'C':30, 'D':40}\n",
    "\n",
    "insert_at_start(dict, \"E\", 50)"
   ]
  },
  {
   "cell_type": "code",
   "execution_count": 8,
   "id": "90b38d34-978f-4bd3-8c2e-e99417c1eca6",
   "metadata": {},
   "outputs": [
    {
     "name": "stdout",
     "output_type": "stream",
     "text": [
      "True\n"
     ]
    }
   ],
   "source": [
    "#6. Write a Python program to check order of character in string using OrderedDict()?\n",
    "\n",
    "\n",
    "from collections import OrderedDict\n",
    "\n",
    "def check_order_of_char(string, pattern):\n",
    "    ordered_dict = OrderedDict.fromkeys(string)\n",
    "    pattern_index = 0\n",
    "    for key in ordered_dict:\n",
    "        if key == pattern[pattern_index]:\n",
    "            pattern_index += 1\n",
    "        if pattern_index == len(pattern):\n",
    "            return True\n",
    "    return False\n",
    "\n",
    "string = \"Hello World\"\n",
    "pattern = \"Hlo\"\n",
    "is_ordered = check_order_of_char(string, pattern)\n",
    "print(is_ordered)"
   ]
  },
  {
   "cell_type": "code",
   "execution_count": 9,
   "id": "288378c2-0a47-40ad-8a31-13ac5fead017",
   "metadata": {},
   "outputs": [
    {
     "name": "stdout",
     "output_type": "stream",
     "text": [
      "{'a': 1, 'b': 2, 'c': 3, 'd': 4}\n",
      "{'a': 1, 'b': 2, 'c': 3, 'd': 4}\n"
     ]
    }
   ],
   "source": [
    "#7. Write a Python program to sort Python Dictionaries by Key or Value?\n",
    "\n",
    "\n",
    "def sort_dictionary(dictionary, by_key=True):\n",
    "    if by_key:\n",
    "        sorted_dict = {k: v for k, v in sorted(dictionary.items())}\n",
    "    else:\n",
    "        sorted_dict = {k: v for k, v in sorted(dictionary.items(), key=lambda item: item[1])}\n",
    "    return sorted_dict\n",
    "\n",
    "\n",
    "my_dict = {'b': 2, 'a': 1, 'd': 4, 'c': 3}\n",
    "sorted_by_key = sort_dictionary(my_dict)\n",
    "sorted_by_value = sort_dictionary(my_dict, by_key=False)\n",
    "\n",
    "print(sorted_by_key)    \n",
    "print(sorted_by_value) "
   ]
  },
  {
   "cell_type": "code",
   "execution_count": null,
   "id": "09c98589-0755-4d4b-bfe4-b57e606e04bb",
   "metadata": {},
   "outputs": [],
   "source": []
  }
 ],
 "metadata": {
  "kernelspec": {
   "display_name": "Python 3 (ipykernel)",
   "language": "python",
   "name": "python3"
  },
  "language_info": {
   "codemirror_mode": {
    "name": "ipython",
    "version": 3
   },
   "file_extension": ".py",
   "mimetype": "text/x-python",
   "name": "python",
   "nbconvert_exporter": "python",
   "pygments_lexer": "ipython3",
   "version": "3.10.6"
  }
 },
 "nbformat": 4,
 "nbformat_minor": 5
}
